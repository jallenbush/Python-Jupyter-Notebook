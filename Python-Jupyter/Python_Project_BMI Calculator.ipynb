{
 "cells": [
  {
   "cell_type": "code",
   "execution_count": 18,
   "id": "e3104a61",
   "metadata": {},
   "outputs": [
    {
     "name": "stdout",
     "output_type": "stream",
     "text": [
      "Enter your name: jass\n",
      "enter your weight in pounds: 133\n",
      "enter your height in inches: 66\n",
      "21.46441689623508\n",
      "jass, you are normal weight.\n"
     ]
    }
   ],
   "source": [
    "name = input(\"Enter your name: \")\n",
    "\n",
    "weight = int(input(\"enter your weight in pounds: \"))\n",
    "height = int(input(\"enter your height in inches: \"))\n",
    "BMI = (weight * 703) / (height * height)\n",
    "print(BMI)\n",
    "\n",
    "if BMI > 0: \n",
    "    if(BMI<18.5):\n",
    "        print(name +\", you are underweight.\")\n",
    "    elif (BMI >= 18.5 and BMI <= 24.9):\n",
    "        print(name +\", you are normal weight.\")\n",
    "    elif (BMI >= 25 and BMI <= 29.9):\n",
    "        print(name +\", you are overweight.\")\n",
    "    elif (BMI >= 30 and BMI <= 34.9):\n",
    "        print(name +\", you are obese.\")\n",
    "    elif (BMI >= 35 and BMI <= 39.9):\n",
    "        print(name +\", you are severely obese.\")\n",
    "    else:\n",
    "        print(name +\", you are morbidly obese.\")\n",
    "else:\n",
    "    print(\"Error: you entered an invalid input\")"
   ]
  },
  {
   "cell_type": "code",
   "execution_count": null,
   "id": "0ec29101",
   "metadata": {},
   "outputs": [],
   "source": [
    "print(weight)"
   ]
  },
  {
   "cell_type": "code",
   "execution_count": 14,
   "id": "04473b01",
   "metadata": {},
   "outputs": [
    {
     "name": "stdout",
     "output_type": "stream",
     "text": [
      "Jass, you are normal weight.\n"
     ]
    }
   ],
   "source": [
    "if BMI > 0: \n",
    "    if(BMI<18.5):\n",
    "        print(name +\", you are underweight.\")\n",
    "    elif (BMI >= 18.5 and BMI <= 24.9):\n",
    "        print(name +\", you are normal weight.\")\n",
    "    elif (BMI >= 25 and BMI <= 29.9):\n",
    "        print(name +\", you are overweight.\")\n",
    "    elif (BMI >= 30 and BMI <= 34.9):\n",
    "        print(name +\", you are obese.\")\n",
    "    elif (BMI >= 35 and BMI <= 39.9):\n",
    "        print(name +\", you are severely obese.\")\n",
    "    elif (BMI >= 40):\n",
    "        print(name +\", you are morbidly obese.\")\n",
    "    else:\n",
    "        print(\"Error: you entered an invalid input\")"
   ]
  },
  {
   "cell_type": "code",
   "execution_count": null,
   "id": "af1959db",
   "metadata": {},
   "outputs": [],
   "source": []
  },
  {
   "cell_type": "code",
   "execution_count": null,
   "id": "21b612d7",
   "metadata": {},
   "outputs": [],
   "source": []
  },
  {
   "cell_type": "code",
   "execution_count": null,
   "id": "82e6be0d",
   "metadata": {},
   "outputs": [],
   "source": [
    "#BMI = (weight in pounds x 703) / (height in inches x height in inches)"
   ]
  },
  {
   "cell_type": "code",
   "execution_count": null,
   "id": "5c8c3970",
   "metadata": {},
   "outputs": [],
   "source": [
    "print(weight)"
   ]
  },
  {
   "cell_type": "code",
   "execution_count": null,
   "id": "447d7dd4",
   "metadata": {},
   "outputs": [],
   "source": []
  },
  {
   "cell_type": "code",
   "execution_count": null,
   "id": "22d1e166",
   "metadata": {},
   "outputs": [],
   "source": []
  }
 ],
 "metadata": {
  "kernelspec": {
   "display_name": "Python 3 (ipykernel)",
   "language": "python",
   "name": "python3"
  },
  "language_info": {
   "codemirror_mode": {
    "name": "ipython",
    "version": 3
   },
   "file_extension": ".py",
   "mimetype": "text/x-python",
   "name": "python",
   "nbconvert_exporter": "python",
   "pygments_lexer": "ipython3",
   "version": "3.11.5"
  }
 },
 "nbformat": 4,
 "nbformat_minor": 5
}
