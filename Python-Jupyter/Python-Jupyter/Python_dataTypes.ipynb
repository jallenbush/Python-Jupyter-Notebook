{
 "cells": [
  {
   "cell_type": "code",
   "execution_count": 1,
   "id": "75d6fef9",
   "metadata": {},
   "outputs": [
    {
     "data": {
      "text/plain": [
       "int"
      ]
     },
     "execution_count": 1,
     "metadata": {},
     "output_type": "execute_result"
    }
   ],
   "source": [
    "#Numeric\n",
    "type(12)"
   ]
  },
  {
   "cell_type": "code",
   "execution_count": 2,
   "id": "10dd7c8a",
   "metadata": {},
   "outputs": [
    {
     "data": {
      "text/plain": [
       "int"
      ]
     },
     "execution_count": 2,
     "metadata": {},
     "output_type": "execute_result"
    }
   ],
   "source": [
    "#Numeric\n",
    "type(-12 + 100)"
   ]
  },
  {
   "cell_type": "code",
   "execution_count": 3,
   "id": "e4d4675c",
   "metadata": {},
   "outputs": [
    {
     "data": {
      "text/plain": [
       "float"
      ]
     },
     "execution_count": 3,
     "metadata": {},
     "output_type": "execute_result"
    }
   ],
   "source": [
    "#Numeric\n",
    "type(-12 + 10.26)"
   ]
  },
  {
   "cell_type": "code",
   "execution_count": 6,
   "id": "7deb0ccd",
   "metadata": {},
   "outputs": [
    {
     "data": {
      "text/plain": [
       "complex"
      ]
     },
     "execution_count": 6,
     "metadata": {},
     "output_type": "execute_result"
    }
   ],
   "source": [
    "#Numeric\n",
    "type(12 + 3j) \n",
    "#only 'j' works with this any other char will cause an error"
   ]
  },
  {
   "cell_type": "code",
   "execution_count": 9,
   "id": "38098181",
   "metadata": {},
   "outputs": [
    {
     "data": {
      "text/plain": [
       "bool"
      ]
     },
     "execution_count": 9,
     "metadata": {},
     "output_type": "execute_result"
    }
   ],
   "source": [
    "#Boolean\n",
    "type(True)"
   ]
  },
  {
   "cell_type": "code",
   "execution_count": 11,
   "id": "91099906",
   "metadata": {},
   "outputs": [
    {
     "data": {
      "text/plain": [
       "bool"
      ]
     },
     "execution_count": 11,
     "metadata": {},
     "output_type": "execute_result"
    }
   ],
   "source": [
    "#Boolean\n",
    "type(False)"
   ]
  },
  {
   "cell_type": "code",
   "execution_count": 12,
   "id": "54842c15",
   "metadata": {},
   "outputs": [
    {
     "data": {
      "text/plain": [
       "bool"
      ]
     },
     "execution_count": 12,
     "metadata": {},
     "output_type": "execute_result"
    }
   ],
   "source": [
    "#Boolean\n",
    "type(1>5)"
   ]
  },
  {
   "cell_type": "code",
   "execution_count": 14,
   "id": "a3220c96",
   "metadata": {},
   "outputs": [
    {
     "data": {
      "text/plain": [
       "True"
      ]
     },
     "execution_count": 14,
     "metadata": {},
     "output_type": "execute_result"
    }
   ],
   "source": [
    "#Boolean\n",
    "\n",
    "1==1"
   ]
  },
  {
   "cell_type": "code",
   "execution_count": 15,
   "id": "394ba824",
   "metadata": {},
   "outputs": [
    {
     "data": {
      "text/plain": [
       "'Single Quote'"
      ]
     },
     "execution_count": 15,
     "metadata": {},
     "output_type": "execute_result"
    }
   ],
   "source": [
    "#Strings\n",
    "'Single Quote'"
   ]
  },
  {
   "cell_type": "code",
   "execution_count": 16,
   "id": "5b8e5d9c",
   "metadata": {},
   "outputs": [
    {
     "data": {
      "text/plain": [
       "'Double Quote'"
      ]
     },
     "execution_count": 16,
     "metadata": {},
     "output_type": "execute_result"
    }
   ],
   "source": [
    "#Strings\n",
    "\"Double Quote\""
   ]
  },
  {
   "cell_type": "code",
   "execution_count": 17,
   "id": "e4b52548",
   "metadata": {},
   "outputs": [
    {
     "data": {
      "text/plain": [
       "'\\nFind the One Piece \\nand become King of the \\nPirates\\n'"
      ]
     },
     "execution_count": 17,
     "metadata": {},
     "output_type": "execute_result"
    }
   ],
   "source": [
    "#Strings\n",
    "\"\"\"\n",
    "Find the One Piece \n",
    "and become King of the \n",
    "Pirates\n",
    "\"\"\""
   ]
  },
  {
   "cell_type": "code",
   "execution_count": 18,
   "id": "56c4108f",
   "metadata": {},
   "outputs": [],
   "source": [
    "a='Hello World!'"
   ]
  },
  {
   "cell_type": "code",
   "execution_count": 20,
   "id": "7effa417",
   "metadata": {},
   "outputs": [
    {
     "name": "stdout",
     "output_type": "stream",
     "text": [
      "W\n",
      "ll\n",
      "d\n"
     ]
    }
   ],
   "source": [
    "print(a[6])\n",
    "print(a[2:4])\n",
    "print(a[-2])"
   ]
  },
  {
   "cell_type": "code",
   "execution_count": 21,
   "id": "a3d1f36a",
   "metadata": {},
   "outputs": [
    {
     "data": {
      "text/plain": [
       "[1, 2, 3]"
      ]
     },
     "execution_count": 21,
     "metadata": {},
     "output_type": "execute_result"
    }
   ],
   "source": [
    "#List\n",
    "[1,2,3]"
   ]
  },
  {
   "cell_type": "code",
   "execution_count": 22,
   "id": "032ec0cb",
   "metadata": {},
   "outputs": [
    {
     "data": {
      "text/plain": [
       "['Luffy', 'Zorro', 'Sanji', 'Usopp']"
      ]
     },
     "execution_count": 22,
     "metadata": {},
     "output_type": "execute_result"
    }
   ],
   "source": [
    "#List\n",
    "['Luffy','Zorro','Sanji', 'Usopp']"
   ]
  },
  {
   "cell_type": "code",
   "execution_count": 23,
   "id": "83c8c76a",
   "metadata": {},
   "outputs": [
    {
     "data": {
      "text/plain": [
       "['Luffy', 3, ['One Piece', 'Haki', 'Akira'], 4]"
      ]
     },
     "execution_count": 23,
     "metadata": {},
     "output_type": "execute_result"
    }
   ],
   "source": [
    "#List\n",
    "['Luffy',3, ['One Piece', 'Haki', 'Akira'], 4]"
   ]
  },
  {
   "cell_type": "code",
   "execution_count": 28,
   "id": "e3875b65",
   "metadata": {},
   "outputs": [
    {
     "data": {
      "text/plain": [
       "['Luffy', 'Chopper', 'Robin', 'Nami', 'Sanji', 'Brook']"
      ]
     },
     "execution_count": 28,
     "metadata": {},
     "output_type": "execute_result"
    }
   ],
   "source": [
    "#List\n",
    "one_piece = ['Luffy', 'Chopper', 'Robin']\n",
    "one_piece.append('Nami')\n",
    "one_piece.append('Sanji')\n",
    "one_piece.append('Brook')\n",
    "one_piece"
   ]
  },
  {
   "cell_type": "code",
   "execution_count": 29,
   "id": "27b1760d",
   "metadata": {},
   "outputs": [
    {
     "data": {
      "text/plain": [
       "['Luffy', 'Zoro', 'Robin', 'Nami', 'Sanji', 'Brook']"
      ]
     },
     "execution_count": 29,
     "metadata": {},
     "output_type": "execute_result"
    }
   ],
   "source": [
    "one_piece[1] = 'Zoro'\n",
    "one_piece"
   ]
  },
  {
   "cell_type": "code",
   "execution_count": 33,
   "id": "63833ff1",
   "metadata": {},
   "outputs": [],
   "source": [
    "nest_list_op = ['Chopper', 5, ['Jimbei', 'Zorro', 'Robin'], False]"
   ]
  },
  {
   "cell_type": "code",
   "execution_count": 34,
   "id": "ad067a47",
   "metadata": {},
   "outputs": [
    {
     "data": {
      "text/plain": [
       "'Zorro'"
      ]
     },
     "execution_count": 34,
     "metadata": {},
     "output_type": "execute_result"
    }
   ],
   "source": [
    "#Nested Lists\n",
    "nest_list_op[2][1]\n",
    "#2nd list, 1st index position"
   ]
  },
  {
   "cell_type": "code",
   "execution_count": 35,
   "id": "a12c2751",
   "metadata": {},
   "outputs": [],
   "source": [
    "#tuple\n",
    "tuple_op = (1,2,3,2,1)"
   ]
  },
  {
   "cell_type": "code",
   "execution_count": 36,
   "id": "e00fad25",
   "metadata": {},
   "outputs": [
    {
     "data": {
      "text/plain": [
       "tuple"
      ]
     },
     "execution_count": 36,
     "metadata": {},
     "output_type": "execute_result"
    }
   ],
   "source": [
    "type(tuple_op)"
   ]
  },
  {
   "cell_type": "code",
   "execution_count": 37,
   "id": "e940fa9e",
   "metadata": {},
   "outputs": [
    {
     "data": {
      "text/plain": [
       "1"
      ]
     },
     "execution_count": 37,
     "metadata": {},
     "output_type": "execute_result"
    }
   ],
   "source": [
    "tuple_op[0]\n",
    "#used for data that doesn't change, e.g City Name"
   ]
  },
  {
   "cell_type": "code",
   "execution_count": 39,
   "id": "a1e1731c",
   "metadata": {},
   "outputs": [],
   "source": [
    "#sets\n",
    "pirate_bounties = {1,2,3}"
   ]
  },
  {
   "cell_type": "code",
   "execution_count": 40,
   "id": "3dc16df3",
   "metadata": {},
   "outputs": [
    {
     "data": {
      "text/plain": [
       "set"
      ]
     },
     "execution_count": 40,
     "metadata": {},
     "output_type": "execute_result"
    }
   ],
   "source": [
    "type(pirate_bounties)"
   ]
  },
  {
   "cell_type": "code",
   "execution_count": 41,
   "id": "12121c4e",
   "metadata": {},
   "outputs": [
    {
     "name": "stdout",
     "output_type": "stream",
     "text": [
      "{1, 2, 3}\n"
     ]
    }
   ],
   "source": [
    "print(pirate_bounties)"
   ]
  },
  {
   "cell_type": "code",
   "execution_count": 43,
   "id": "0e17d5a5",
   "metadata": {},
   "outputs": [],
   "source": [
    "pirate_bounties = {1,2,6,4,35,56,7,45,321,21}"
   ]
  },
  {
   "cell_type": "code",
   "execution_count": 44,
   "id": "c872b396",
   "metadata": {},
   "outputs": [],
   "source": [
    "pirate_bounties_navy = {34,5,6,35,6,7657,211,321}"
   ]
  },
  {
   "cell_type": "code",
   "execution_count": 45,
   "id": "81eb05b4",
   "metadata": {},
   "outputs": [
    {
     "name": "stdout",
     "output_type": "stream",
     "text": [
      "{321, 1, 2, 35, 4, 6, 7, 34, 5, 7657, 45, 211, 21, 56}\n"
     ]
    }
   ],
   "source": [
    "print(pirate_bounties | pirate_bounties_navy)\n",
    "#unique valuse between the 2 sets"
   ]
  },
  {
   "cell_type": "code",
   "execution_count": 46,
   "id": "ea0f71ec",
   "metadata": {},
   "outputs": [
    {
     "name": "stdout",
     "output_type": "stream",
     "text": [
      "{321, 35, 6}\n"
     ]
    }
   ],
   "source": [
    "print(pirate_bounties & pirate_bounties_navy)\n",
    "#matching values"
   ]
  },
  {
   "cell_type": "code",
   "execution_count": 47,
   "id": "2a076114",
   "metadata": {},
   "outputs": [
    {
     "name": "stdout",
     "output_type": "stream",
     "text": [
      "{1, 2, 4, 7, 45, 21, 56}\n"
     ]
    }
   ],
   "source": [
    "print(pirate_bounties - pirate_bounties_navy)\n",
    "#values that don't match"
   ]
  },
  {
   "cell_type": "code",
   "execution_count": 48,
   "id": "5fcc157e",
   "metadata": {},
   "outputs": [
    {
     "name": "stdout",
     "output_type": "stream",
     "text": [
      "{1, 2, 4, 5, 7, 211, 21, 34, 7657, 45, 56}\n"
     ]
    }
   ],
   "source": [
    "print(pirate_bounties ^ pirate_bounties_navy)\n",
    "#values that are not in both sets, completely unique"
   ]
  },
  {
   "cell_type": "code",
   "execution_count": 50,
   "id": "d04e2895",
   "metadata": {},
   "outputs": [],
   "source": [
    "#dictionaries\n",
    "#key value pair\n",
    "\n",
    "dict_pirate = {'pirate': 'Luffy', 'Bounty': 300000000000, 'Pirate Crew': 'The Straw Hats', 'Favorite Foods': ['meat', 'cake', 'soup']}"
   ]
  },
  {
   "cell_type": "code",
   "execution_count": 51,
   "id": "2dfd2770",
   "metadata": {},
   "outputs": [
    {
     "data": {
      "text/plain": [
       "dict"
      ]
     },
     "execution_count": 51,
     "metadata": {},
     "output_type": "execute_result"
    }
   ],
   "source": [
    "type(dict_pirate)"
   ]
  },
  {
   "cell_type": "code",
   "execution_count": 52,
   "id": "e2de3541",
   "metadata": {},
   "outputs": [
    {
     "name": "stdout",
     "output_type": "stream",
     "text": [
      "{'pirate': 'Luffy', 'Bounty': 300000000000, 'Pirate Crew': 'The Straw Hats', 'Favorite Foods': ['meat', 'cake', 'soup']}\n"
     ]
    }
   ],
   "source": [
    "print(dict_pirate)"
   ]
  },
  {
   "cell_type": "code",
   "execution_count": 53,
   "id": "56660a79",
   "metadata": {},
   "outputs": [
    {
     "data": {
      "text/plain": [
       "dict_values(['Luffy', 300000000000, 'The Straw Hats', ['meat', 'cake', 'soup']])"
      ]
     },
     "execution_count": 53,
     "metadata": {},
     "output_type": "execute_result"
    }
   ],
   "source": [
    "dict_pirate.values()"
   ]
  },
  {
   "cell_type": "code",
   "execution_count": 54,
   "id": "97cafade",
   "metadata": {},
   "outputs": [
    {
     "data": {
      "text/plain": [
       "dict_keys(['pirate', 'Bounty', 'Pirate Crew', 'Favorite Foods'])"
      ]
     },
     "execution_count": 54,
     "metadata": {},
     "output_type": "execute_result"
    }
   ],
   "source": [
    "dict_pirate.keys()"
   ]
  },
  {
   "cell_type": "code",
   "execution_count": 56,
   "id": "b08e5ec1",
   "metadata": {},
   "outputs": [
    {
     "data": {
      "text/plain": [
       "dict_items([('pirate', 'Luffy'), ('Bounty', 300000000000), ('Pirate Crew', 'The Straw Hats'), ('Favorite Foods', ['meat', 'cake', 'soup'])])"
      ]
     },
     "execution_count": 56,
     "metadata": {},
     "output_type": "execute_result"
    }
   ],
   "source": [
    "dict_pirate.items()"
   ]
  },
  {
   "cell_type": "code",
   "execution_count": 61,
   "id": "7678099b",
   "metadata": {},
   "outputs": [
    {
     "data": {
      "text/plain": [
       "'Luffy'"
      ]
     },
     "execution_count": 61,
     "metadata": {},
     "output_type": "execute_result"
    }
   ],
   "source": [
    "#wrong way to lookuop specific location - dict_pirate[0]\n",
    "dict_pirate['pirate']"
   ]
  },
  {
   "cell_type": "code",
   "execution_count": 62,
   "id": "d4a1cfe8",
   "metadata": {},
   "outputs": [
    {
     "name": "stdout",
     "output_type": "stream",
     "text": [
      "{'pirate': 'Monkey D. Luffy', 'Bounty': 300000000000, 'Pirate Crew': 'The Straw Hats', 'Favorite Foods': ['meat', 'cake', 'soup']}\n"
     ]
    }
   ],
   "source": [
    "dict_pirate['pirate'] = 'Monkey D. Luffy'\n",
    "print(dict_pirate)"
   ]
  },
  {
   "cell_type": "code",
   "execution_count": 63,
   "id": "23d70229",
   "metadata": {},
   "outputs": [
    {
     "name": "stdout",
     "output_type": "stream",
     "text": [
      "{'pirate': 'Monkey D. Luffy', 'Bounty': 30000000, 'Pirate Crew': 'The Straw Hats', 'Favorite Foods': ['meat', 'cake', 'soup']}\n"
     ]
    }
   ],
   "source": [
    "dict_pirate.update({'pirate': 'Monkey D. Luffy', 'Bounty': 30000000, 'Pirate Crew': 'The Straw Hats', 'Favorite Foods': ['meat', 'cake', 'soup']})\n",
    "print(dict_pirate)"
   ]
  },
  {
   "cell_type": "code",
   "execution_count": 64,
   "id": "3d4d75ea",
   "metadata": {},
   "outputs": [],
   "source": [
    "del dict_pirate['Pirate Crew']"
   ]
  },
  {
   "cell_type": "code",
   "execution_count": 65,
   "id": "5e545d9a",
   "metadata": {},
   "outputs": [
    {
     "name": "stdout",
     "output_type": "stream",
     "text": [
      "{'pirate': 'Monkey D. Luffy', 'Bounty': 30000000, 'Favorite Foods': ['meat', 'cake', 'soup']}\n"
     ]
    }
   ],
   "source": [
    "print(dict_pirate)"
   ]
  },
  {
   "cell_type": "code",
   "execution_count": null,
   "id": "383ae9f4",
   "metadata": {},
   "outputs": [],
   "source": []
  },
  {
   "cell_type": "code",
   "execution_count": null,
   "id": "8457ebb7",
   "metadata": {},
   "outputs": [],
   "source": []
  },
  {
   "cell_type": "code",
   "execution_count": null,
   "id": "e5e21877",
   "metadata": {},
   "outputs": [],
   "source": []
  }
 ],
 "metadata": {
  "kernelspec": {
   "display_name": "Python 3 (ipykernel)",
   "language": "python",
   "name": "python3"
  },
  "language_info": {
   "codemirror_mode": {
    "name": "ipython",
    "version": 3
   },
   "file_extension": ".py",
   "mimetype": "text/x-python",
   "name": "python",
   "nbconvert_exporter": "python",
   "pygments_lexer": "ipython3",
   "version": "3.11.5"
  }
 },
 "nbformat": 4,
 "nbformat_minor": 5
}
