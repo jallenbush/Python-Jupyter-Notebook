{
 "cells": [
  {
   "cell_type": "code",
   "execution_count": 1,
   "id": "15602a6d",
   "metadata": {},
   "outputs": [],
   "source": [
    "def first_func():\n",
    "    print('We did it!')"
   ]
  },
  {
   "cell_type": "code",
   "execution_count": 2,
   "id": "67662259",
   "metadata": {},
   "outputs": [
    {
     "name": "stdout",
     "output_type": "stream",
     "text": [
      "We did it!\n"
     ]
    }
   ],
   "source": [
    "first_func()"
   ]
  },
  {
   "cell_type": "code",
   "execution_count": 3,
   "id": "2b60265a",
   "metadata": {},
   "outputs": [],
   "source": [
    "def num_squared(num):\n",
    "    print(num**2)\n",
    "    #take num passed through function and multiply the power of 2"
   ]
  },
  {
   "cell_type": "code",
   "execution_count": 4,
   "id": "73fcd98d",
   "metadata": {},
   "outputs": [
    {
     "name": "stdout",
     "output_type": "stream",
     "text": [
      "25\n"
     ]
    }
   ],
   "source": [
    "num_squared(5)"
   ]
  },
  {
   "cell_type": "code",
   "execution_count": 5,
   "id": "a8724bad",
   "metadata": {},
   "outputs": [],
   "source": [
    "def num_squared_cust(num, power):\n",
    "    print(num**power)"
   ]
  },
  {
   "cell_type": "code",
   "execution_count": 7,
   "id": "288de705",
   "metadata": {},
   "outputs": [
    {
     "name": "stdout",
     "output_type": "stream",
     "text": [
      "125\n"
     ]
    }
   ],
   "source": [
    "num_squared_cust(5,3)"
   ]
  },
  {
   "cell_type": "code",
   "execution_count": 8,
   "id": "e5365df5",
   "metadata": {},
   "outputs": [],
   "source": [
    "#arbritary function\n",
    "def num_args(*number):\n",
    "    print(number[0]*number[1])"
   ]
  },
  {
   "cell_type": "code",
   "execution_count": 9,
   "id": "2964f73c",
   "metadata": {},
   "outputs": [
    {
     "name": "stdout",
     "output_type": "stream",
     "text": [
      "30\n"
     ]
    }
   ],
   "source": [
    "num_args(5,6,1,2,8)"
   ]
  },
  {
   "cell_type": "code",
   "execution_count": 14,
   "id": "aff1b782",
   "metadata": {},
   "outputs": [],
   "source": [
    "args_tuple = (5,6,1,2,8)\n",
    "def num_args(*number):\n",
    "    print(number[0]*number[1])"
   ]
  },
  {
   "cell_type": "code",
   "execution_count": 15,
   "id": "01f4600a",
   "metadata": {},
   "outputs": [
    {
     "name": "stdout",
     "output_type": "stream",
     "text": [
      "30\n"
     ]
    }
   ],
   "source": [
    "num_args(*args_tuple)"
   ]
  },
  {
   "cell_type": "code",
   "execution_count": 16,
   "id": "046d9cd9",
   "metadata": {},
   "outputs": [],
   "source": [
    "#keyword argument\n",
    "def num_squared_cust(num, power):\n",
    "    print(num**power)"
   ]
  },
  {
   "cell_type": "code",
   "execution_count": 19,
   "id": "7ee86339",
   "metadata": {},
   "outputs": [
    {
     "name": "stdout",
     "output_type": "stream",
     "text": [
      "243\n"
     ]
    }
   ],
   "source": [
    "num_squared_cust(power = 5, num = 3)"
   ]
  },
  {
   "cell_type": "code",
   "execution_count": 30,
   "id": "20426e04",
   "metadata": {},
   "outputs": [],
   "source": [
    "#arbritrary keyword function\n",
    "def num_kwarg(**num):\n",
    "    print('My number is: ' + num['integer'] + ' My other number: ' + num['integer2'])"
   ]
  },
  {
   "cell_type": "code",
   "execution_count": 28,
   "id": "11d5e462",
   "metadata": {},
   "outputs": [
    {
     "name": "stdout",
     "output_type": "stream",
     "text": [
      "My number is: 2309 My other number: 349\n"
     ]
    }
   ],
   "source": [
    "num_kwarg(integer = '2309', integer2 = '349')"
   ]
  },
  {
   "cell_type": "code",
   "execution_count": null,
   "id": "7519b3ae",
   "metadata": {},
   "outputs": [],
   "source": []
  },
  {
   "cell_type": "code",
   "execution_count": null,
   "id": "6b5ff35a",
   "metadata": {},
   "outputs": [],
   "source": []
  }
 ],
 "metadata": {
  "kernelspec": {
   "display_name": "Python 3 (ipykernel)",
   "language": "python",
   "name": "python3"
  },
  "language_info": {
   "codemirror_mode": {
    "name": "ipython",
    "version": 3
   },
   "file_extension": ".py",
   "mimetype": "text/x-python",
   "name": "python",
   "nbconvert_exporter": "python",
   "pygments_lexer": "ipython3",
   "version": "3.11.5"
  }
 },
 "nbformat": 4,
 "nbformat_minor": 5
}
