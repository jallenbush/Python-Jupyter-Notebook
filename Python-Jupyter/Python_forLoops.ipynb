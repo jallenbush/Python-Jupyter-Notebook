{
 "cells": [
  {
   "cell_type": "code",
   "execution_count": 1,
   "id": "0c19336a",
   "metadata": {},
   "outputs": [],
   "source": [
    "integers = [1,2,3,4,5,6]"
   ]
  },
  {
   "cell_type": "code",
   "execution_count": 2,
   "id": "ffcdb793",
   "metadata": {},
   "outputs": [
    {
     "name": "stdout",
     "output_type": "stream",
     "text": [
      "1\n",
      "2\n",
      "3\n",
      "4\n",
      "5\n",
      "6\n"
     ]
    }
   ],
   "source": [
    "for num in integers:\n",
    "    print(num)"
   ]
  },
  {
   "cell_type": "code",
   "execution_count": 3,
   "id": "24828f3c",
   "metadata": {},
   "outputs": [
    {
     "name": "stdout",
     "output_type": "stream",
     "text": [
      "yup\n",
      "yup\n",
      "yup\n",
      "yup\n",
      "yup\n",
      "yup\n"
     ]
    }
   ],
   "source": [
    "for num in integers:\n",
    "    print('yup')"
   ]
  },
  {
   "cell_type": "code",
   "execution_count": 4,
   "id": "b9f4384c",
   "metadata": {},
   "outputs": [],
   "source": [
    "integers = [1,2,3,4,5,6]"
   ]
  },
  {
   "cell_type": "code",
   "execution_count": 7,
   "id": "18763247",
   "metadata": {},
   "outputs": [
    {
     "name": "stdout",
     "output_type": "stream",
     "text": [
      "2\n",
      "4\n",
      "6\n",
      "8\n",
      "10\n",
      "12\n"
     ]
    }
   ],
   "source": [
    "for black in integers:\n",
    "    print(black + black)\n",
    "#loosp through 1 adds 1, loops through 2 adds 2, etc. "
   ]
  },
  {
   "cell_type": "code",
   "execution_count": 8,
   "id": "eeb2482e",
   "metadata": {},
   "outputs": [],
   "source": [
    "pirates_dic = {'name': 'Luffy', 'age': 19, 'power': 'rubber man'}"
   ]
  },
  {
   "cell_type": "code",
   "execution_count": 9,
   "id": "16171cbf",
   "metadata": {},
   "outputs": [
    {
     "name": "stdout",
     "output_type": "stream",
     "text": [
      "Luffy\n",
      "19\n",
      "rubber man\n"
     ]
    }
   ],
   "source": [
    "for pirates in pirates_dic.values():\n",
    "    print(pirates)\n",
    "#how to print just value"
   ]
  },
  {
   "cell_type": "code",
   "execution_count": 11,
   "id": "27b822fa",
   "metadata": {},
   "outputs": [
    {
     "name": "stdout",
     "output_type": "stream",
     "text": [
      "name -> Luffy\n",
      "age -> 19\n",
      "power -> rubber man\n"
     ]
    }
   ],
   "source": [
    "for key, value in pirates_dic.items():\n",
    "    print(key, '->', value)\n",
    "#how to print key and value"
   ]
  },
  {
   "cell_type": "code",
   "execution_count": 12,
   "id": "16882dcb",
   "metadata": {},
   "outputs": [],
   "source": [
    "#Nested For Loops\n",
    "pirates = ['luffy', 'blackbeard', 'ace']\n",
    "power = ['gum-gum fruit' , 'dark-dark fruit', 'fire-fire fruit']"
   ]
  },
  {
   "cell_type": "code",
   "execution_count": 13,
   "id": "484de0b8",
   "metadata": {},
   "outputs": [
    {
     "name": "stdout",
     "output_type": "stream",
     "text": [
      "luffy devil fruit power gum-gum fruit\n",
      "luffy devil fruit power dark-dark fruit\n",
      "luffy devil fruit power fire-fire fruit\n",
      "blackbeard devil fruit power gum-gum fruit\n",
      "blackbeard devil fruit power dark-dark fruit\n",
      "blackbeard devil fruit power fire-fire fruit\n",
      "ace devil fruit power gum-gum fruit\n",
      "ace devil fruit power dark-dark fruit\n",
      "ace devil fruit power fire-fire fruit\n"
     ]
    }
   ],
   "source": [
    "for one in pirates:\n",
    "    for two in power:\n",
    "        print(one, 'devil fruit power', two)\n",
    "        \n",
    "#for 1st one in pirates loops through 2nd power "
   ]
  },
  {
   "cell_type": "code",
   "execution_count": null,
   "id": "696f7ab0",
   "metadata": {},
   "outputs": [],
   "source": []
  },
  {
   "cell_type": "code",
   "execution_count": null,
   "id": "e4674cf7",
   "metadata": {},
   "outputs": [],
   "source": []
  },
  {
   "cell_type": "code",
   "execution_count": null,
   "id": "942e0282",
   "metadata": {},
   "outputs": [],
   "source": []
  },
  {
   "cell_type": "code",
   "execution_count": null,
   "id": "dae1209c",
   "metadata": {},
   "outputs": [],
   "source": []
  },
  {
   "cell_type": "code",
   "execution_count": null,
   "id": "feb09878",
   "metadata": {},
   "outputs": [],
   "source": []
  },
  {
   "cell_type": "code",
   "execution_count": null,
   "id": "dd0645c0",
   "metadata": {},
   "outputs": [],
   "source": []
  },
  {
   "cell_type": "code",
   "execution_count": null,
   "id": "537e2952",
   "metadata": {},
   "outputs": [],
   "source": []
  },
  {
   "cell_type": "code",
   "execution_count": null,
   "id": "639233a6",
   "metadata": {},
   "outputs": [],
   "source": []
  },
  {
   "cell_type": "code",
   "execution_count": null,
   "id": "0e1c6e7d",
   "metadata": {},
   "outputs": [],
   "source": []
  },
  {
   "cell_type": "code",
   "execution_count": null,
   "id": "331f741e",
   "metadata": {},
   "outputs": [],
   "source": []
  },
  {
   "cell_type": "code",
   "execution_count": null,
   "id": "3b9675b0",
   "metadata": {},
   "outputs": [],
   "source": []
  }
 ],
 "metadata": {
  "kernelspec": {
   "display_name": "Python 3 (ipykernel)",
   "language": "python",
   "name": "python3"
  },
  "language_info": {
   "codemirror_mode": {
    "name": "ipython",
    "version": 3
   },
   "file_extension": ".py",
   "mimetype": "text/x-python",
   "name": "python",
   "nbconvert_exporter": "python",
   "pygments_lexer": "ipython3",
   "version": "3.11.5"
  }
 },
 "nbformat": 4,
 "nbformat_minor": 5
}
