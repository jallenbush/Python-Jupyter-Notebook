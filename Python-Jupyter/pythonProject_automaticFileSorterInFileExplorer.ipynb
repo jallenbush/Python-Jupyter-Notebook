{
 "cells": [
  {
   "cell_type": "code",
   "execution_count": 57,
   "id": "ecc89dd6",
   "metadata": {},
   "outputs": [],
   "source": [
    "#'shutil' allows for high level operations on file explorer\n",
    "import os, shutil"
   ]
  },
  {
   "cell_type": "code",
   "execution_count": 58,
   "id": "4e068b33",
   "metadata": {},
   "outputs": [],
   "source": [
    "#include 'r' before path so as to not include backslashes when reading path, the raw str\n",
    "#change back-slashes to forwared-slashes and include an additional forwared-slash at the end of path\n",
    "path = r\"C:/Users/jassm/OneDrive/Desktop/PersonlProjects/Jaleesha/\""
   ]
  },
  {
   "cell_type": "code",
   "execution_count": 59,
   "id": "b6a523aa",
   "metadata": {},
   "outputs": [],
   "source": [
    "#check if folder, if not create one\n",
    "#read each file individually, then place within corrrect folder\n",
    "file_name = os.listdir(path)\n",
    "#shows files all within path"
   ]
  },
  {
   "cell_type": "code",
   "execution_count": 60,
   "id": "c16dc3c1",
   "metadata": {},
   "outputs": [
    {
     "name": "stdout",
     "output_type": "stream",
     "text": [
      "C:/Users/jassm/OneDrive/Desktop/PersonlProjects/Jaleesha/csv files\n",
      "C:/Users/jassm/OneDrive/Desktop/PersonlProjects/Jaleesha/image files\n",
      "C:/Users/jassm/OneDrive/Desktop/PersonlProjects/Jaleesha/text files\n",
      "C:/Users/jassm/OneDrive/Desktop/PersonlProjects/Jaleesha/docx files\n",
      "C:/Users/jassm/OneDrive/Desktop/PersonlProjects/Jaleesha/pdf files\n"
     ]
    }
   ],
   "source": [
    "#can hard code each file option or can loop through it\n",
    "#os.path.exists(path + 'csv files')\n",
    "\n",
    "folder_names = ['csv files', 'image files', 'text files', 'docx files', 'pdf files']\n",
    "for n in range(0,5):\n",
    "    if not os.path.exists(path + folder_names[n]):\n",
    "        print(path + folder_names[n])\n",
    "        os.makedirs(path + folder_names[n])"
   ]
  },
  {
   "cell_type": "code",
   "execution_count": 61,
   "id": "ab2a377d",
   "metadata": {},
   "outputs": [],
   "source": [
    "for file in file_name:\n",
    "    if \".docx\" in file and not os.path.exists(path + \".docx files/\" + file):\n",
    "        shutil.move(path + file, path + \"docx files/\" + file)\n",
    "    elif \".pdf\" in file and not os.path.exists(path + \".pdf files/\" + file):\n",
    "        shutil.move(path + file, path + \"pdf files/\" + file)\n",
    "    elif \".csv\" in file and not os.path.exists(path + \".csv files/\" + file):\n",
    "        shutil.move(path + file, path + \"csv files/\" + file)\n",
    "    elif \".jpg\" in file and not os.path.exists(path + \".jpg files/\" + file):\n",
    "        shutil.move(path + file, path + \"image files/\" + file)\n",
    "    elif \".png\" in file and not os.path.exists(path + \".png files/\" + file):\n",
    "        shutil.move(path + file, path + \"image files/\" + file)\n",
    "    elif \".txt\" in file and not os.path.exists(path + \".txt files/\" + file):\n",
    "        shutil.move(path + file, path + \"text files/\" + file)\n",
    "    else:\n",
    "        print(\"There are files within this path that were not moved.\")"
   ]
  },
  {
   "cell_type": "code",
   "execution_count": null,
   "id": "29a17dc8",
   "metadata": {},
   "outputs": [],
   "source": []
  },
  {
   "cell_type": "code",
   "execution_count": null,
   "id": "ae68b35c",
   "metadata": {},
   "outputs": [],
   "source": []
  },
  {
   "cell_type": "code",
   "execution_count": null,
   "id": "66003171",
   "metadata": {},
   "outputs": [],
   "source": []
  },
  {
   "cell_type": "code",
   "execution_count": null,
   "id": "ac5fc3fd",
   "metadata": {},
   "outputs": [],
   "source": []
  },
  {
   "cell_type": "code",
   "execution_count": null,
   "id": "f1fe16f5",
   "metadata": {},
   "outputs": [],
   "source": []
  },
  {
   "cell_type": "code",
   "execution_count": null,
   "id": "ad3d4d93",
   "metadata": {},
   "outputs": [],
   "source": []
  },
  {
   "cell_type": "code",
   "execution_count": null,
   "id": "2f794f9a",
   "metadata": {},
   "outputs": [],
   "source": []
  },
  {
   "cell_type": "code",
   "execution_count": null,
   "id": "d65de207",
   "metadata": {},
   "outputs": [],
   "source": []
  },
  {
   "cell_type": "code",
   "execution_count": null,
   "id": "d27ccde3",
   "metadata": {},
   "outputs": [],
   "source": []
  },
  {
   "cell_type": "code",
   "execution_count": null,
   "id": "96b2cc14",
   "metadata": {},
   "outputs": [],
   "source": []
  }
 ],
 "metadata": {
  "kernelspec": {
   "display_name": "Python 3 (ipykernel)",
   "language": "python",
   "name": "python3"
  },
  "language_info": {
   "codemirror_mode": {
    "name": "ipython",
    "version": 3
   },
   "file_extension": ".py",
   "mimetype": "text/x-python",
   "name": "python",
   "nbconvert_exporter": "python",
   "pygments_lexer": "ipython3",
   "version": "3.11.5"
  }
 },
 "nbformat": 4,
 "nbformat_minor": 5
}
