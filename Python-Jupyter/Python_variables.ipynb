{
 "cells": [
  {
   "cell_type": "code",
   "execution_count": 1,
   "id": "24ad6fc0",
   "metadata": {},
   "outputs": [
    {
     "name": "stdout",
     "output_type": "stream",
     "text": [
      "22\n"
     ]
    }
   ],
   "source": [
    "x=22\n",
    "print(x)"
   ]
  },
  {
   "cell_type": "code",
   "execution_count": 2,
   "id": "fdfaa1a8",
   "metadata": {},
   "outputs": [
    {
     "data": {
      "text/plain": [
       "int"
      ]
     },
     "execution_count": 2,
     "metadata": {},
     "output_type": "execute_result"
    }
   ],
   "source": [
    "type(x)"
   ]
  },
  {
   "cell_type": "code",
   "execution_count": 3,
   "id": "0b8baddb",
   "metadata": {},
   "outputs": [
    {
     "name": "stdout",
     "output_type": "stream",
     "text": [
      "Luffy\n"
     ]
    }
   ],
   "source": [
    "y='Luffy'\n",
    "print(y)"
   ]
  },
  {
   "cell_type": "code",
   "execution_count": 4,
   "id": "2bbef5cb",
   "metadata": {},
   "outputs": [
    {
     "data": {
      "text/plain": [
       "str"
      ]
     },
     "execution_count": 4,
     "metadata": {},
     "output_type": "execute_result"
    }
   ],
   "source": [
    "type(y)"
   ]
  },
  {
   "cell_type": "code",
   "execution_count": 6,
   "id": "7cdc74a3",
   "metadata": {},
   "outputs": [
    {
     "name": "stdout",
     "output_type": "stream",
     "text": [
      "King of The Pirates\n"
     ]
    }
   ],
   "source": [
    "y='Luffy'\n",
    "y='King of The Pirates'\n",
    "print(y)"
   ]
  },
  {
   "cell_type": "code",
   "execution_count": 8,
   "id": "146f5bfb",
   "metadata": {},
   "outputs": [
    {
     "name": "stdout",
     "output_type": "stream",
     "text": [
      "Chopper\n",
      "Nami\n",
      "Luffy\n"
     ]
    }
   ],
   "source": [
    "x,y,z = 'Luffy', 'Chopper', 'Nami'\n",
    "print(y)\n",
    "print(z)\n",
    "print(x)"
   ]
  },
  {
   "cell_type": "code",
   "execution_count": 11,
   "id": "25b4907b",
   "metadata": {},
   "outputs": [
    {
     "name": "stdout",
     "output_type": "stream",
     "text": [
      "Chase Your Dreams\n",
      "Chase Your Dreams\n",
      "Chase Your Dreams\n"
     ]
    }
   ],
   "source": [
    "x=y=z = 'Chase Your Dreams'\n",
    "print(x)\n",
    "print(z)\n",
    "print(y)"
   ]
  },
  {
   "cell_type": "code",
   "execution_count": 14,
   "id": "09736126",
   "metadata": {},
   "outputs": [
    {
     "name": "stdout",
     "output_type": "stream",
     "text": [
      "Luffy\n",
      "Chopper\n",
      "Nami\n"
     ]
    }
   ],
   "source": [
    "one_piece = ['Luffy', 'Chopper', 'Nami']\n",
    "x,y,z = one_piece\n",
    "print(x)\n",
    "print(y)\n",
    "print(z)"
   ]
  },
  {
   "cell_type": "code",
   "execution_count": null,
   "id": "fc302ddb",
   "metadata": {},
   "outputs": [],
   "source": [
    "#camel case\n",
    "#Test vairable case\n",
    "testVariableCase = 'Ace'"
   ]
  },
  {
   "cell_type": "code",
   "execution_count": null,
   "id": "2c99ef5d",
   "metadata": {},
   "outputs": [],
   "source": [
    "#pascal case\n",
    "#Test vairable case\n",
    "TestVariableCase = 'Ace'"
   ]
  },
  {
   "cell_type": "code",
   "execution_count": null,
   "id": "f073b6a2",
   "metadata": {},
   "outputs": [],
   "source": [
    "#snake case\n",
    "#Test vairable case\n",
    "test_variable_case = 'Ace'"
   ]
  },
  {
   "cell_type": "code",
   "execution_count": 16,
   "id": "28b729d3",
   "metadata": {},
   "outputs": [
    {
     "name": "stdout",
     "output_type": "stream",
     "text": [
      "One Piece is awesome\n"
     ]
    }
   ],
   "source": [
    "x='One Piece'\n",
    "y=' is awesome'\n",
    "print(x+y)"
   ]
  },
  {
   "cell_type": "code",
   "execution_count": 17,
   "id": "3cd9c50e",
   "metadata": {},
   "outputs": [
    {
     "name": "stdout",
     "output_type": "stream",
     "text": [
      "298433\n"
     ]
    }
   ],
   "source": [
    "x = 103841\n",
    "y = 204810\n",
    "z = 194592\n",
    "print(x+z)"
   ]
  },
  {
   "cell_type": "code",
   "execution_count": null,
   "id": "419079c5",
   "metadata": {},
   "outputs": [],
   "source": []
  }
 ],
 "metadata": {
  "kernelspec": {
   "display_name": "Python 3 (ipykernel)",
   "language": "python",
   "name": "python3"
  },
  "language_info": {
   "codemirror_mode": {
    "name": "ipython",
    "version": 3
   },
   "file_extension": ".py",
   "mimetype": "text/x-python",
   "name": "python",
   "nbconvert_exporter": "python",
   "pygments_lexer": "ipython3",
   "version": "3.11.5"
  }
 },
 "nbformat": 4,
 "nbformat_minor": 5
}
